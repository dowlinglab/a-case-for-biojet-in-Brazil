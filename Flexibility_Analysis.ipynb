{
 "cells": [
  {
   "cell_type": "markdown",
   "id": "c9402ee9-26fe-4383-9f50-98f33ceb648b",
   "metadata": {},
   "source": [
    "# Flexibility Analysis for the Sugarcane Mill Model"
   ]
  },
  {
   "cell_type": "markdown",
   "id": "57cfb33e-d16d-4073-ac11-04b9311cc99c",
   "metadata": {},
   "source": [
    "This notebook reads in historical price data for flexibility analysis of sugarcane mill model. The sensitivty of the expected value of the mill's profit to different levels of operational flexibility is studied."
   ]
  },
  {
   "cell_type": "code",
   "execution_count": 1,
   "id": "71e4d86c-4d85-4b29-8a10-168c534c7212",
   "metadata": {},
   "outputs": [],
   "source": [
    "from stochastic_model_v2 import *\n",
    "import matplotlib.pyplot as plt\n",
    "import pandas as pd\n",
    "\n",
    "# from perfect_information_analysis import *\n",
    "# from technology_sensitivity import *\n",
    "from pathlib import Path  \n",
    "from flexibility_analysis import *"
   ]
  },
  {
   "cell_type": "code",
   "execution_count": 5,
   "id": "60593329-eb98-418f-a103-ad7a0190cc6b",
   "metadata": {},
   "outputs": [],
   "source": [
    "#Load historical price data\n",
    "df_hp = pd.read_excel('Mutran_jet_datav2.xlsx', sheet_name= 'Inflation')\n",
    "\n",
    "#Convert data frame to indexed dictionary and add the premium to SAF\n",
    "jet_price = df_hp['p_je']\n",
    "eth_price = df_hp['p_et']\n",
    "sugar_price = df_hp['p_su']\n",
    "\n",
    "\n",
    "jet_price = jet_price.to_dict()\n",
    "eth_price = eth_price.to_dict()\n",
    "sugar_price = sugar_price.to_dict()\n",
    "\n",
    "market_prices = {}\n",
    "market_prices['s'] = sugar_price\n",
    "market_prices['e'] = eth_price\n",
    "market_prices['a'] = jet_price\n",
    "\n",
    "scenarios = list(sugar_price.keys())"
   ]
  },
  {
   "cell_type": "code",
   "execution_count": 75,
   "id": "77cdac92-3522-4a98-8975-305f2874aba6",
   "metadata": {},
   "outputs": [],
   "source": [
    "ethanol_split_flex = np.linspace(0,1,11)\n",
    "juice_split_flex = np.linspace(0,1,11)\n",
    "\n",
    "conv = 0.409\n",
    "cost = 637\n",
    "\n",
    "# data = flexibility_data_gen(ethanol_split_flex,juice_split_flex,cost,conv,2585,market_prices,scenarios)\n",
    "\n",
    "# #Save profit to csv\n",
    "# filepath = Path('C:/Users/Maddie1/Documents/GitHub/C2C_Project/A_Case_For_Biojet_in_BR/flexibility_data/profit.csv')  \n",
    "# filepath.parent.mkdir(parents=True, exist_ok=True)  \n",
    "# data[0].to_csv(filepath,encoding='utf-8')\n",
    "\n",
    "# #Save theta to csv\n",
    "# filepath = Path('C:/Users/Maddie1/Documents/GitHub/C2C_Project/A_Case_For_Biojet_in_BR/flexibility_data/theta.csv')  \n",
    "# filepath.parent.mkdir(parents=True, exist_ok=True)  \n",
    "# data[1].to_csv(filepath,encoding='utf-8')\n",
    "\n",
    "# #Save gamma to csv\n",
    "# filepath = Path('C:/Users/Maddie1/Documents/GitHub/C2C_Project/A_Case_For_Biojet_in_BR/flexibility_data/gamma.csv')  \n",
    "# filepath.parent.mkdir(parents=True, exist_ok=True)  \n",
    "# data[2].to_csv(filepath,encoding='utf-8')"
   ]
  },
  {
   "cell_type": "code",
   "execution_count": 8,
   "id": "f4289558-5c1b-45b6-aee7-d0d98f975e80",
   "metadata": {},
   "outputs": [],
   "source": [
    "df_profit = pd.read_csv('C:/Users/Maddie1/Documents/GitHub/C2C_Project/A_Case_For_Biojet_in_BR/flexibility_data/profit.csv')\n",
    "\n",
    "df_profit = df_profit.drop(columns = ['Unnamed: 0'])\n",
    "\n",
    "df_theta = pd.read_csv('C:/Users/Maddie1/Documents/GitHub/C2C_Project/A_Case_For_Biojet_in_BR/flexibility_data/theta.csv')\n",
    "df_gamma = pd.read_csv('C:/Users/Maddie1/Documents/GitHub/C2C_Project/A_Case_For_Biojet_in_BR/flexibility_data/gamma.csv')"
   ]
  },
  {
   "cell_type": "code",
   "execution_count": 74,
   "id": "b315dd71-9c00-494f-a877-1c1a6e31c643",
   "metadata": {},
   "outputs": [
    {
     "data": {
      "image/png": "[encoded data removed]",
      "text/plain": [
       "<Figure size 432x288 with 5 Axes>"
      ]
     },
     "metadata": {
      "needs_background": "light"
     },
     "output_type": "display_data"
    }
   ],
   "source": [
    "fig, axs = plt.subplots(2, 2)\n",
    "\n",
    "#upper left - heat map\n",
    "cntr = axs[0,0].contourf(ethanol_split_flex,juice_split_flex,df_profit.to_numpy()/1e9, cmap='summer',levels=10)\n",
    "cbar=fig.colorbar(cntr, ax = axs[0,0])\n",
    "axs[0,0].scatter(0.98,0.98,color = 'k', marker='*', s = 100)\n",
    "# plt.scatter(0.5,0.5,color = 'k', marker='*', s = 100)\n",
    "axs[0,0].scatter(0.2,0.2,color = 'k', marker='*', s = 100)\n",
    "axs[0,0].scatter(0.02,0.02,color = 'k', marker='*', s = 100)\n",
    "axs[0,0].text(0.05,0.06,'A', fontsize = 14, fontweight='bold')\n",
    "axs[0,0].text(0.23,0.24,'B', fontsize = 14, fontweight='bold')\n",
    "axs[0,0].text(0.85,0.87,'C', fontsize = 14, fontweight='bold')\n",
    "axs[0,0].set_xlabel('Ethanol Flexibility', fontweight='bold', fontsize = 12)\n",
    "axs[0,0].set_ylabel('Juice Flexibility', fontweight='bold', fontsize = 12)\n",
    "cbar.set_label('Profit (B R$)',weight = 'bold', fontsize=12)\n",
    "\n",
    "#Upper right\n",
    "df_gamma['10.10'] = df_gamma['10.10'].drop(index=0)\n",
    "df_theta['10.10'] = df_theta['10.10'].drop(index=0)\n",
    "axs[0,1].hist(df_gamma['10.10'], label='\\u03B3',bins = [0.19,0.3,0.6,0.7], color = 'green')\n",
    "axs[0,1].hist(df_theta['10.10'],label='\\u03B8', bins = [0.4,0.5,0.95,1.05], color = 'blue')\n",
    "axs[0,1].text(0.05,510,'C', fontsize = 14, fontweight='bold')\n",
    "axs[0,1].set_yticks([0,100,200,300,400,500,600])\n",
    "axs[0,1].set_xlim(left = 0, right=1.1)\n",
    "axs[0,1].set_xticks([0,0.2,.40,.60,.80,1])\n",
    "axs[0,1].legend(bbox_to_anchor=(0.88, 1), fontsize = 12)\n",
    "axs[0,1].set_xlabel('Split Fraction', fontweight='bold', fontsize = 12)\n",
    "axs[0,1].set_ylabel('Frequency', fontweight='bold',fontsize = 12)\n",
    "\n",
    "#Bottom left\n",
    "df_gamma['0'] = df_gamma['0'].drop(index=0)\n",
    "df_theta['0'] = df_theta['0'].drop(index=0)\n",
    "axs[1,0].hist(df_gamma['0'], label='Ethanol',bins = 10, color = 'green')\n",
    "axs[1,0].hist(df_theta['0'],label='Juice', bins = [0.95,1.05], color = 'blue')\n",
    "axs[1,0].text(0.05,510,'A', fontsize = 14, fontweight='bold')\n",
    "axs[1,0].set_yticks([0,100,200,300,400,500,600])\n",
    "axs[1,0].set_xlim(left = 0, right=1.1)\n",
    "axs[1,0].set_xticks([0,0.2,.40,.60,.80,1])\n",
    "# axs[0,1].legend(bbox_to_anchor=(0.88, 1), fontsize = 10)\n",
    "axs[1,0].set_xlabel('Split Fraction', fontweight='bold', fontsize = 12)\n",
    "axs[1,0].set_ylabel('Frequency', fontweight='bold',fontsize = 12)\n",
    "\n",
    "#Bottom right\n",
    "df_gamma['2.2'] = df_gamma['2.2'].drop(index=0)\n",
    "df_theta['2.2'] = df_theta['2.2'].drop(index=0)\n",
    "axs[1,1].hist(df_gamma['2.2'], label='Ethanol',bins = [0.19,0.3,0.4], color = 'green')\n",
    "axs[1,1].hist(df_theta['2.2'],label='Juice', bins = [0.95,1.05], color = 'blue')\n",
    "axs[1,1].text(0.05,510,'B', fontsize = 14, fontweight='bold')\n",
    "axs[1,1].set_yticks([0,100,200,300,400,500,600])\n",
    "axs[1,1].set_xlim(left = 0, right=1.1)\n",
    "axs[1,1].set_xticks([0,0.2,.40,.60,.80,1])\n",
    "# axs[,1].legend(bbox_to_anchor=(0.88, 1), fontsize = 10)\n",
    "axs[1,1].set_xlabel('Split Fraction', fontweight='bold', fontsize = 12)\n",
    "axs[1,1].set_ylabel('Frequency', fontweight='bold',fontsize = 12)\n",
    "\n",
    "\n",
    "plt.subplots_adjust(wspace = 0.7, hspace = 0.4)\n",
    "plt.savefig('4panel.png',bbox_inches='tight',dpi=400)\n",
    "plt.show()"
   ]
  },
  {
   "cell_type": "code",
   "execution_count": 57,
   "id": "fd0296b4",
   "metadata": {},
   "outputs": [],
   "source": [
    "#Run flexibility analysis for the optimistic case\n",
    "conv = 0.61\n",
    "cost = 461\n",
    "\n",
    "#Uncomment to run flexibility analysis\n",
    "# data_opt = flexibility_data_gen(ethanol_split_flex,juice_split_flex,conv,cost,2585,market_prices,scenarios)\n",
    "\n",
    "# #Save profit to csv\n",
    "# filepath = Path('C:/Users/Maddie1/Documents/GitHub/C2C_Project/A_Case_For_Biojet_in_BR/flexibility_data_opt/profit.csv')  \n",
    "# filepath.parent.mkdir(parents=True, exist_ok=True)  \n",
    "# data_opt[0].to_csv(filepath,encoding='utf-8')\n",
    "\n",
    "# #Save theta to csv\n",
    "# filepath = Path('C:/Users/Maddie1/Documents/GitHub/C2C_Project/A_Case_For_Biojet_in_BR/flexibility_data_opt/theta.csv')  \n",
    "# filepath.parent.mkdir(parents=True, exist_ok=True)  \n",
    "# data_opt[1].to_csv(filepath,encoding='utf-8')\n",
    "\n",
    "# #Save gamma to csv\n",
    "# filepath = Path('C:/Users/Maddie1/Documents/GitHub/C2C_Project/A_Case_For_Biojet_in_BR/flexibility_data_opt/gamma.csv')  \n",
    "# filepath.parent.mkdir(parents=True, exist_ok=True)  \n",
    "# data_opt[2].to_csv(filepath,encoding='utf-8')"
   ]
  },
  {
   "cell_type": "code",
   "execution_count": 12,
   "id": "a97dc028-5ac1-4714-93fc-f1b9af3cdfc8",
   "metadata": {},
   "outputs": [],
   "source": [
    "df_profit_opt = pd.read_csv('C:/Users/Maddie1/Documents/GitHub/C2C_Project/A_Case_For_Biojet_in_BR/flexibility_data_opt/profit.csv')\n",
    "\n",
    "df_profit_opt = df_profit_opt.drop(columns = ['Unnamed: 0'])\n",
    "\n",
    "df_theta_opt = pd.read_csv('C:/Users/Maddie1/Documents/GitHub/C2C_Project/A_Case_For_Biojet_in_BR/flexibility_data_opt/theta.csv')\n",
    "df_gamma_opt = pd.read_csv('C:/Users/Maddie1/Documents/GitHub/C2C_Project/A_Case_For_Biojet_in_BR/flexibility_data_opt/gamma.csv')"
   ]
  },
  {
   "cell_type": "code",
   "execution_count": 56,
   "id": "af3cb8f1",
   "metadata": {},
   "outputs": [
    {
     "data": {
      "image/png": "[encoded data removed]",
      "text/plain": [
       "<Figure size 432x288 with 5 Axes>"
      ]
     },
     "metadata": {
      "needs_background": "light"
     },
     "output_type": "display_data"
    }
   ],
   "source": [
    "fig, axs = plt.subplots(2, 2)\n",
    "\n",
    "#upper left - heat map\n",
    "cntr = axs[0,0].contourf(ethanol_split_flex,juice_split_flex,df_profit_opt.to_numpy()/1e9, cmap='summer',levels=[415,416,417,418,419,420])\n",
    "cbar=fig.colorbar(cntr, ax = axs[0,0])\n",
    "axs[0,0].scatter(0.98,0.98,color = 'k', marker='*', s = 100)\n",
    "# plt.scatter(0.5,0.5,color = 'k', marker='*', s = 100)\n",
    "axs[0,0].scatter(0.2,0.2,color = 'k', marker='*', s = 100)\n",
    "axs[0,0].scatter(0.02,0.02,color = 'k', marker='*', s = 100)\n",
    "axs[0,0].text(0.05,0.06,'A', fontsize = 14, fontweight='bold')\n",
    "axs[0,0].text(0.23,0.24,'B', fontsize = 14, fontweight='bold')\n",
    "axs[0,0].text(0.85,0.87,'C', fontsize = 14, fontweight='bold')\n",
    "axs[0,0].set_xlabel('Ethanol Flexibility', fontweight='bold', fontsize = 12)\n",
    "axs[0,0].set_ylabel('Juice Flexibility', fontweight='bold', fontsize = 12)\n",
    "cbar.set_label('Profit (B R$)',weight = 'bold', fontsize=12)\n",
    "\n",
    "#Upper right\n",
    "df_gamma_opt['10.10'] = df_gamma_opt['10.10'].drop(index=0)\n",
    "df_theta_opt['10.10'] = df_theta_opt['10.10'].drop(index=0)\n",
    "axs[0,1].hist(df_gamma_opt['10.10'], label='\\u03B3',bins = [0.19,0.3], color = 'green')\n",
    "axs[0,1].hist(df_theta_opt['10.10'],label='\\u03B8', bins = 10, color = 'blue')\n",
    "axs[0,1].text(0.05,510,'C', fontsize = 14, fontweight='bold')\n",
    "axs[0,1].set_yticks([0,100,200,300,400,500,600])\n",
    "axs[0,1].set_xlim(left = 0, right=1)\n",
    "axs[0,1].set_xticks([0,0.2,.40,.60,.80,1])\n",
    "axs[0,1].legend(bbox_to_anchor=(0.88, 1), fontsize = 12)\n",
    "axs[0,1].set_xlabel('Split Fraction', fontweight='bold', fontsize = 12)\n",
    "axs[0,1].set_ylabel('Frequency', fontweight='bold',fontsize = 12)\n",
    "\n",
    "#Bottom left\n",
    "df_gamma_opt['0'] = df_gamma_opt['0'].drop(index=0)\n",
    "df_theta_opt['0'] = df_theta_opt['0'].drop(index=0)\n",
    "axs[1,0].hist(df_gamma_opt['0'], label='Ethanol',bins = 10, color = 'green')\n",
    "axs[1,0].hist(df_theta_opt['0'],label='Juice', bins = 10, color = 'blue')\n",
    "axs[1,0].text(0.05,510,'A', fontsize = 14, fontweight='bold')\n",
    "axs[1,0].set_yticks([0,100,200,300,400,500,600])\n",
    "axs[1,0].set_xlim(left = 0, right=1)\n",
    "axs[1,0].set_xticks([0,0.2,.40,.60,.80,1])\n",
    "# axs[0,1].legend(bbox_to_anchor=(0.88, 1), fontsize = 10)\n",
    "axs[1,0].set_xlabel('Split Fraction', fontweight='bold', fontsize = 12)\n",
    "axs[1,0].set_ylabel('Frequency', fontweight='bold',fontsize = 12)\n",
    "\n",
    "#Bottom right\n",
    "df_gamma_opt['2.2'] = df_gamma_opt['2.2'].drop(index=0)\n",
    "df_theta_opt['2.2'] = df_theta_opt['2.2'].drop(index=0)\n",
    "axs[1,1].hist(df_gamma_opt['2.2'], label='Ethanol',bins = 10, color = 'green')\n",
    "axs[1,1].hist(df_theta_opt['2.2'],label='Juice', bins = 10, color = 'blue')\n",
    "axs[1,1].text(0.05,510,'B', fontsize = 14, fontweight='bold')\n",
    "axs[1,1].set_yticks([0,100,200,300,400,500,600])\n",
    "axs[1,1].set_xlim(left = 0, right=1)\n",
    "axs[1,1].set_xticks([0,0.2,.40,.60,.80,1])\n",
    "# axs[,1].legend(bbox_to_anchor=(0.88, 1), fontsize = 10)\n",
    "axs[1,1].set_xlabel('Split Fraction', fontweight='bold', fontsize = 12)\n",
    "axs[1,1].set_ylabel('Frequency', fontweight='bold',fontsize = 12)\n",
    "\n",
    "\n",
    "plt.subplots_adjust(wspace = 0.7, hspace = 0.4)\n",
    "plt.savefig('4panel_optimistic.png',bbox_inches='tight',dpi=400)\n",
    "plt.show()"
   ]
  },
  {
   "cell_type": "code",
   "execution_count": null,
   "id": "38b8bd01",
   "metadata": {},
   "outputs": [],
   "source": []
  }
 ],
 "metadata": {
  "kernelspec": {
   "display_name": "Python 3 (ipykernel)",
   "language": "python",
   "name": "python3"
  },
  "language_info": {
   "codemirror_mode": {
    "name": "ipython",
    "version": 3
   },
   "file_extension": ".py",
   "mimetype": "text/x-python",
   "name": "python",
   "nbconvert_exporter": "python",
   "pygments_lexer": "ipython3",
   "version": "3.9.12"
  }
 },
 "nbformat": 4,
 "nbformat_minor": 5
}
